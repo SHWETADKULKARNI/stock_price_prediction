{
 "cells": [
  {
   "cell_type": "markdown",
   "id": "3a6d1942",
   "metadata": {},
   "source": [
    "## Build a stock price prediction project in machine learning which utilizes historical stock market data,technical indicators, and machine learningalgorithms to forecast future stock prices."
   ]
  },
  {
   "cell_type": "code",
   "execution_count": 1,
   "id": "48becf0e",
   "metadata": {},
   "outputs": [],
   "source": [
    "# Loading libraries\n",
    "import numpy as np\n",
    "import pandas as pd\n",
    "import matplotlib.pyplot as plt\n",
    "from sklearn.preprocessing import MinMaxScaler\n",
    "from tensorflow.keras.models import Sequential\n",
    "from tensorflow.keras.layers import LSTM, Dense"
   ]
  },
  {
   "cell_type": "code",
   "execution_count": 2,
   "id": "e6c39c7d",
   "metadata": {},
   "outputs": [],
   "source": [
    "# Load the data\n",
    "data = pd.read_csv('ADANIPORTS.csv')"
   ]
  },
  {
   "cell_type": "code",
   "execution_count": 3,
   "id": "04becd2e",
   "metadata": {},
   "outputs": [
    {
     "data": {
      "text/html": [
       "<div>\n",
       "<style scoped>\n",
       "    .dataframe tbody tr th:only-of-type {\n",
       "        vertical-align: middle;\n",
       "    }\n",
       "\n",
       "    .dataframe tbody tr th {\n",
       "        vertical-align: top;\n",
       "    }\n",
       "\n",
       "    .dataframe thead th {\n",
       "        text-align: right;\n",
       "    }\n",
       "</style>\n",
       "<table border=\"1\" class=\"dataframe\">\n",
       "  <thead>\n",
       "    <tr style=\"text-align: right;\">\n",
       "      <th></th>\n",
       "      <th>Date</th>\n",
       "      <th>Symbol</th>\n",
       "      <th>Series</th>\n",
       "      <th>Prev Close</th>\n",
       "      <th>Open</th>\n",
       "      <th>High</th>\n",
       "      <th>Low</th>\n",
       "      <th>Last</th>\n",
       "      <th>Close</th>\n",
       "      <th>VWAP</th>\n",
       "      <th>Volume</th>\n",
       "      <th>Turnover</th>\n",
       "      <th>Trades</th>\n",
       "      <th>Deliverable Volume</th>\n",
       "      <th>%Deliverble</th>\n",
       "    </tr>\n",
       "  </thead>\n",
       "  <tbody>\n",
       "    <tr>\n",
       "      <th>0</th>\n",
       "      <td>2007-11-27</td>\n",
       "      <td>MUNDRAPORT</td>\n",
       "      <td>EQ</td>\n",
       "      <td>440.00</td>\n",
       "      <td>770.00</td>\n",
       "      <td>1050.00</td>\n",
       "      <td>770.0</td>\n",
       "      <td>959.0</td>\n",
       "      <td>962.90</td>\n",
       "      <td>984.72</td>\n",
       "      <td>27294366</td>\n",
       "      <td>2.687719e+15</td>\n",
       "      <td>NaN</td>\n",
       "      <td>9859619</td>\n",
       "      <td>0.3612</td>\n",
       "    </tr>\n",
       "    <tr>\n",
       "      <th>1</th>\n",
       "      <td>2007-11-28</td>\n",
       "      <td>MUNDRAPORT</td>\n",
       "      <td>EQ</td>\n",
       "      <td>962.90</td>\n",
       "      <td>984.00</td>\n",
       "      <td>990.00</td>\n",
       "      <td>874.0</td>\n",
       "      <td>885.0</td>\n",
       "      <td>893.90</td>\n",
       "      <td>941.38</td>\n",
       "      <td>4581338</td>\n",
       "      <td>4.312765e+14</td>\n",
       "      <td>NaN</td>\n",
       "      <td>1453278</td>\n",
       "      <td>0.3172</td>\n",
       "    </tr>\n",
       "    <tr>\n",
       "      <th>2</th>\n",
       "      <td>2007-11-29</td>\n",
       "      <td>MUNDRAPORT</td>\n",
       "      <td>EQ</td>\n",
       "      <td>893.90</td>\n",
       "      <td>909.00</td>\n",
       "      <td>914.75</td>\n",
       "      <td>841.0</td>\n",
       "      <td>887.0</td>\n",
       "      <td>884.20</td>\n",
       "      <td>888.09</td>\n",
       "      <td>5124121</td>\n",
       "      <td>4.550658e+14</td>\n",
       "      <td>NaN</td>\n",
       "      <td>1069678</td>\n",
       "      <td>0.2088</td>\n",
       "    </tr>\n",
       "    <tr>\n",
       "      <th>3</th>\n",
       "      <td>2007-11-30</td>\n",
       "      <td>MUNDRAPORT</td>\n",
       "      <td>EQ</td>\n",
       "      <td>884.20</td>\n",
       "      <td>890.00</td>\n",
       "      <td>958.00</td>\n",
       "      <td>890.0</td>\n",
       "      <td>929.0</td>\n",
       "      <td>921.55</td>\n",
       "      <td>929.17</td>\n",
       "      <td>4609762</td>\n",
       "      <td>4.283257e+14</td>\n",
       "      <td>NaN</td>\n",
       "      <td>1260913</td>\n",
       "      <td>0.2735</td>\n",
       "    </tr>\n",
       "    <tr>\n",
       "      <th>4</th>\n",
       "      <td>2007-12-03</td>\n",
       "      <td>MUNDRAPORT</td>\n",
       "      <td>EQ</td>\n",
       "      <td>921.55</td>\n",
       "      <td>939.75</td>\n",
       "      <td>995.00</td>\n",
       "      <td>922.0</td>\n",
       "      <td>980.0</td>\n",
       "      <td>969.30</td>\n",
       "      <td>965.65</td>\n",
       "      <td>2977470</td>\n",
       "      <td>2.875200e+14</td>\n",
       "      <td>NaN</td>\n",
       "      <td>816123</td>\n",
       "      <td>0.2741</td>\n",
       "    </tr>\n",
       "  </tbody>\n",
       "</table>\n",
       "</div>"
      ],
      "text/plain": [
       "         Date      Symbol Series  Prev Close    Open     High    Low   Last  \\\n",
       "0  2007-11-27  MUNDRAPORT     EQ      440.00  770.00  1050.00  770.0  959.0   \n",
       "1  2007-11-28  MUNDRAPORT     EQ      962.90  984.00   990.00  874.0  885.0   \n",
       "2  2007-11-29  MUNDRAPORT     EQ      893.90  909.00   914.75  841.0  887.0   \n",
       "3  2007-11-30  MUNDRAPORT     EQ      884.20  890.00   958.00  890.0  929.0   \n",
       "4  2007-12-03  MUNDRAPORT     EQ      921.55  939.75   995.00  922.0  980.0   \n",
       "\n",
       "    Close    VWAP    Volume      Turnover  Trades  Deliverable Volume  \\\n",
       "0  962.90  984.72  27294366  2.687719e+15     NaN             9859619   \n",
       "1  893.90  941.38   4581338  4.312765e+14     NaN             1453278   \n",
       "2  884.20  888.09   5124121  4.550658e+14     NaN             1069678   \n",
       "3  921.55  929.17   4609762  4.283257e+14     NaN             1260913   \n",
       "4  969.30  965.65   2977470  2.875200e+14     NaN              816123   \n",
       "\n",
       "   %Deliverble  \n",
       "0       0.3612  \n",
       "1       0.3172  \n",
       "2       0.2088  \n",
       "3       0.2735  \n",
       "4       0.2741  "
      ]
     },
     "execution_count": 3,
     "metadata": {},
     "output_type": "execute_result"
    }
   ],
   "source": [
    "# First five rows\n",
    "data.head()"
   ]
  },
  {
   "cell_type": "code",
   "execution_count": 4,
   "id": "e0b42799",
   "metadata": {},
   "outputs": [
    {
     "data": {
      "text/html": [
       "<div>\n",
       "<style scoped>\n",
       "    .dataframe tbody tr th:only-of-type {\n",
       "        vertical-align: middle;\n",
       "    }\n",
       "\n",
       "    .dataframe tbody tr th {\n",
       "        vertical-align: top;\n",
       "    }\n",
       "\n",
       "    .dataframe thead th {\n",
       "        text-align: right;\n",
       "    }\n",
       "</style>\n",
       "<table border=\"1\" class=\"dataframe\">\n",
       "  <thead>\n",
       "    <tr style=\"text-align: right;\">\n",
       "      <th></th>\n",
       "      <th>Date</th>\n",
       "      <th>Symbol</th>\n",
       "      <th>Series</th>\n",
       "      <th>Prev Close</th>\n",
       "      <th>Open</th>\n",
       "      <th>High</th>\n",
       "      <th>Low</th>\n",
       "      <th>Last</th>\n",
       "      <th>Close</th>\n",
       "      <th>VWAP</th>\n",
       "      <th>Volume</th>\n",
       "      <th>Turnover</th>\n",
       "      <th>Trades</th>\n",
       "      <th>Deliverable Volume</th>\n",
       "      <th>%Deliverble</th>\n",
       "    </tr>\n",
       "  </thead>\n",
       "  <tbody>\n",
       "    <tr>\n",
       "      <th>3317</th>\n",
       "      <td>2021-04-26</td>\n",
       "      <td>ADANIPORTS</td>\n",
       "      <td>EQ</td>\n",
       "      <td>725.35</td>\n",
       "      <td>733.0</td>\n",
       "      <td>739.65</td>\n",
       "      <td>728.90</td>\n",
       "      <td>729.2</td>\n",
       "      <td>730.75</td>\n",
       "      <td>733.25</td>\n",
       "      <td>9390549</td>\n",
       "      <td>6.885658e+14</td>\n",
       "      <td>116457.0</td>\n",
       "      <td>838079</td>\n",
       "      <td>0.0892</td>\n",
       "    </tr>\n",
       "    <tr>\n",
       "      <th>3318</th>\n",
       "      <td>2021-04-27</td>\n",
       "      <td>ADANIPORTS</td>\n",
       "      <td>EQ</td>\n",
       "      <td>730.75</td>\n",
       "      <td>735.0</td>\n",
       "      <td>757.50</td>\n",
       "      <td>727.35</td>\n",
       "      <td>748.6</td>\n",
       "      <td>749.15</td>\n",
       "      <td>747.67</td>\n",
       "      <td>20573107</td>\n",
       "      <td>1.538191e+15</td>\n",
       "      <td>236896.0</td>\n",
       "      <td>1779639</td>\n",
       "      <td>0.0865</td>\n",
       "    </tr>\n",
       "    <tr>\n",
       "      <th>3319</th>\n",
       "      <td>2021-04-28</td>\n",
       "      <td>ADANIPORTS</td>\n",
       "      <td>EQ</td>\n",
       "      <td>749.15</td>\n",
       "      <td>755.0</td>\n",
       "      <td>760.00</td>\n",
       "      <td>741.10</td>\n",
       "      <td>743.4</td>\n",
       "      <td>746.25</td>\n",
       "      <td>751.02</td>\n",
       "      <td>11156977</td>\n",
       "      <td>8.379106e+14</td>\n",
       "      <td>130847.0</td>\n",
       "      <td>1342353</td>\n",
       "      <td>0.1203</td>\n",
       "    </tr>\n",
       "    <tr>\n",
       "      <th>3320</th>\n",
       "      <td>2021-04-29</td>\n",
       "      <td>ADANIPORTS</td>\n",
       "      <td>EQ</td>\n",
       "      <td>746.25</td>\n",
       "      <td>753.2</td>\n",
       "      <td>765.85</td>\n",
       "      <td>743.40</td>\n",
       "      <td>746.4</td>\n",
       "      <td>746.75</td>\n",
       "      <td>753.06</td>\n",
       "      <td>13851910</td>\n",
       "      <td>1.043139e+15</td>\n",
       "      <td>153293.0</td>\n",
       "      <td>1304895</td>\n",
       "      <td>0.0942</td>\n",
       "    </tr>\n",
       "    <tr>\n",
       "      <th>3321</th>\n",
       "      <td>2021-04-30</td>\n",
       "      <td>ADANIPORTS</td>\n",
       "      <td>EQ</td>\n",
       "      <td>746.75</td>\n",
       "      <td>739.0</td>\n",
       "      <td>759.45</td>\n",
       "      <td>724.50</td>\n",
       "      <td>726.4</td>\n",
       "      <td>730.05</td>\n",
       "      <td>743.35</td>\n",
       "      <td>12600934</td>\n",
       "      <td>9.366911e+14</td>\n",
       "      <td>132141.0</td>\n",
       "      <td>3514692</td>\n",
       "      <td>0.2789</td>\n",
       "    </tr>\n",
       "  </tbody>\n",
       "</table>\n",
       "</div>"
      ],
      "text/plain": [
       "            Date      Symbol Series  Prev Close   Open    High     Low   Last  \\\n",
       "3317  2021-04-26  ADANIPORTS     EQ      725.35  733.0  739.65  728.90  729.2   \n",
       "3318  2021-04-27  ADANIPORTS     EQ      730.75  735.0  757.50  727.35  748.6   \n",
       "3319  2021-04-28  ADANIPORTS     EQ      749.15  755.0  760.00  741.10  743.4   \n",
       "3320  2021-04-29  ADANIPORTS     EQ      746.25  753.2  765.85  743.40  746.4   \n",
       "3321  2021-04-30  ADANIPORTS     EQ      746.75  739.0  759.45  724.50  726.4   \n",
       "\n",
       "       Close    VWAP    Volume      Turnover    Trades  Deliverable Volume  \\\n",
       "3317  730.75  733.25   9390549  6.885658e+14  116457.0              838079   \n",
       "3318  749.15  747.67  20573107  1.538191e+15  236896.0             1779639   \n",
       "3319  746.25  751.02  11156977  8.379106e+14  130847.0             1342353   \n",
       "3320  746.75  753.06  13851910  1.043139e+15  153293.0             1304895   \n",
       "3321  730.05  743.35  12600934  9.366911e+14  132141.0             3514692   \n",
       "\n",
       "      %Deliverble  \n",
       "3317       0.0892  \n",
       "3318       0.0865  \n",
       "3319       0.1203  \n",
       "3320       0.0942  \n",
       "3321       0.2789  "
      ]
     },
     "execution_count": 4,
     "metadata": {},
     "output_type": "execute_result"
    }
   ],
   "source": [
    "# Last five rows\n",
    "data.tail()"
   ]
  },
  {
   "cell_type": "code",
   "execution_count": 5,
   "id": "f9ed6f29",
   "metadata": {},
   "outputs": [
    {
     "data": {
      "text/plain": [
       "(3322, 15)"
      ]
     },
     "execution_count": 5,
     "metadata": {},
     "output_type": "execute_result"
    }
   ],
   "source": [
    "# Shape of data\n",
    "data.shape"
   ]
  },
  {
   "cell_type": "code",
   "execution_count": 6,
   "id": "654a3a9e",
   "metadata": {},
   "outputs": [
    {
     "data": {
      "text/plain": [
       "Index(['Date', 'Symbol', 'Series', 'Prev Close', 'Open', 'High', 'Low', 'Last',\n",
       "       'Close', 'VWAP', 'Volume', 'Turnover', 'Trades', 'Deliverable Volume',\n",
       "       '%Deliverble'],\n",
       "      dtype='object')"
      ]
     },
     "execution_count": 6,
     "metadata": {},
     "output_type": "execute_result"
    }
   ],
   "source": [
    "# Columns in data\n",
    "data.columns"
   ]
  },
  {
   "cell_type": "code",
   "execution_count": 7,
   "id": "d2ce2151",
   "metadata": {},
   "outputs": [
    {
     "name": "stdout",
     "output_type": "stream",
     "text": [
      "<class 'pandas.core.frame.DataFrame'>\n",
      "RangeIndex: 3322 entries, 0 to 3321\n",
      "Data columns (total 15 columns):\n",
      " #   Column              Non-Null Count  Dtype  \n",
      "---  ------              --------------  -----  \n",
      " 0   Date                3322 non-null   object \n",
      " 1   Symbol              3322 non-null   object \n",
      " 2   Series              3322 non-null   object \n",
      " 3   Prev Close          3322 non-null   float64\n",
      " 4   Open                3322 non-null   float64\n",
      " 5   High                3322 non-null   float64\n",
      " 6   Low                 3322 non-null   float64\n",
      " 7   Last                3322 non-null   float64\n",
      " 8   Close               3322 non-null   float64\n",
      " 9   VWAP                3322 non-null   float64\n",
      " 10  Volume              3322 non-null   int64  \n",
      " 11  Turnover            3322 non-null   float64\n",
      " 12  Trades              2456 non-null   float64\n",
      " 13  Deliverable Volume  3322 non-null   int64  \n",
      " 14  %Deliverble         3322 non-null   float64\n",
      "dtypes: float64(10), int64(2), object(3)\n",
      "memory usage: 389.4+ KB\n"
     ]
    }
   ],
   "source": [
    "# Information of data\n",
    "data.info()"
   ]
  },
  {
   "cell_type": "code",
   "execution_count": 8,
   "id": "28060bdc",
   "metadata": {},
   "outputs": [
    {
     "data": {
      "text/html": [
       "<div>\n",
       "<style scoped>\n",
       "    .dataframe tbody tr th:only-of-type {\n",
       "        vertical-align: middle;\n",
       "    }\n",
       "\n",
       "    .dataframe tbody tr th {\n",
       "        vertical-align: top;\n",
       "    }\n",
       "\n",
       "    .dataframe thead th {\n",
       "        text-align: right;\n",
       "    }\n",
       "</style>\n",
       "<table border=\"1\" class=\"dataframe\">\n",
       "  <thead>\n",
       "    <tr style=\"text-align: right;\">\n",
       "      <th></th>\n",
       "      <th>Prev Close</th>\n",
       "      <th>Open</th>\n",
       "      <th>High</th>\n",
       "      <th>Low</th>\n",
       "      <th>Last</th>\n",
       "      <th>Close</th>\n",
       "      <th>VWAP</th>\n",
       "      <th>Volume</th>\n",
       "      <th>Turnover</th>\n",
       "      <th>Trades</th>\n",
       "      <th>Deliverable Volume</th>\n",
       "      <th>%Deliverble</th>\n",
       "    </tr>\n",
       "  </thead>\n",
       "  <tbody>\n",
       "    <tr>\n",
       "      <th>count</th>\n",
       "      <td>3322.000000</td>\n",
       "      <td>3322.000000</td>\n",
       "      <td>3322.000000</td>\n",
       "      <td>3322.000000</td>\n",
       "      <td>3322.000000</td>\n",
       "      <td>3322.000000</td>\n",
       "      <td>3322.000000</td>\n",
       "      <td>3.322000e+03</td>\n",
       "      <td>3.322000e+03</td>\n",
       "      <td>2.456000e+03</td>\n",
       "      <td>3.322000e+03</td>\n",
       "      <td>3322.000000</td>\n",
       "    </tr>\n",
       "    <tr>\n",
       "      <th>mean</th>\n",
       "      <td>344.114314</td>\n",
       "      <td>344.763019</td>\n",
       "      <td>351.608007</td>\n",
       "      <td>337.531969</td>\n",
       "      <td>344.239539</td>\n",
       "      <td>344.201626</td>\n",
       "      <td>344.853182</td>\n",
       "      <td>2.954564e+06</td>\n",
       "      <td>1.070144e+14</td>\n",
       "      <td>4.492259e+04</td>\n",
       "      <td>1.207441e+06</td>\n",
       "      <td>0.445899</td>\n",
       "    </tr>\n",
       "    <tr>\n",
       "      <th>std</th>\n",
       "      <td>192.936882</td>\n",
       "      <td>193.619992</td>\n",
       "      <td>198.617808</td>\n",
       "      <td>188.676614</td>\n",
       "      <td>193.187813</td>\n",
       "      <td>193.045886</td>\n",
       "      <td>193.841305</td>\n",
       "      <td>4.104227e+06</td>\n",
       "      <td>2.625564e+14</td>\n",
       "      <td>5.023124e+04</td>\n",
       "      <td>1.398640e+06</td>\n",
       "      <td>0.160496</td>\n",
       "    </tr>\n",
       "    <tr>\n",
       "      <th>min</th>\n",
       "      <td>108.000000</td>\n",
       "      <td>108.000000</td>\n",
       "      <td>110.450000</td>\n",
       "      <td>105.650000</td>\n",
       "      <td>108.000000</td>\n",
       "      <td>108.000000</td>\n",
       "      <td>108.340000</td>\n",
       "      <td>1.236600e+04</td>\n",
       "      <td>2.415857e+11</td>\n",
       "      <td>3.660000e+02</td>\n",
       "      <td>5.383000e+03</td>\n",
       "      <td>0.067000</td>\n",
       "    </tr>\n",
       "    <tr>\n",
       "      <th>25%</th>\n",
       "      <td>164.312500</td>\n",
       "      <td>164.850000</td>\n",
       "      <td>168.000000</td>\n",
       "      <td>161.600000</td>\n",
       "      <td>164.075000</td>\n",
       "      <td>164.312500</td>\n",
       "      <td>164.855000</td>\n",
       "      <td>7.493682e+05</td>\n",
       "      <td>1.817650e+13</td>\n",
       "      <td>2.083200e+04</td>\n",
       "      <td>3.212005e+05</td>\n",
       "      <td>0.332900</td>\n",
       "    </tr>\n",
       "    <tr>\n",
       "      <th>50%</th>\n",
       "      <td>324.700000</td>\n",
       "      <td>325.750000</td>\n",
       "      <td>331.275000</td>\n",
       "      <td>319.850000</td>\n",
       "      <td>325.000000</td>\n",
       "      <td>324.700000</td>\n",
       "      <td>325.765000</td>\n",
       "      <td>2.007292e+06</td>\n",
       "      <td>5.836041e+13</td>\n",
       "      <td>3.588150e+04</td>\n",
       "      <td>8.132775e+05</td>\n",
       "      <td>0.445650</td>\n",
       "    </tr>\n",
       "    <tr>\n",
       "      <th>75%</th>\n",
       "      <td>400.912500</td>\n",
       "      <td>401.000000</td>\n",
       "      <td>407.187500</td>\n",
       "      <td>395.000000</td>\n",
       "      <td>400.912500</td>\n",
       "      <td>400.912500</td>\n",
       "      <td>400.607500</td>\n",
       "      <td>3.636883e+06</td>\n",
       "      <td>1.158526e+14</td>\n",
       "      <td>5.336875e+04</td>\n",
       "      <td>1.605528e+06</td>\n",
       "      <td>0.555850</td>\n",
       "    </tr>\n",
       "    <tr>\n",
       "      <th>max</th>\n",
       "      <td>1307.450000</td>\n",
       "      <td>1310.250000</td>\n",
       "      <td>1324.000000</td>\n",
       "      <td>1270.000000</td>\n",
       "      <td>1308.000000</td>\n",
       "      <td>1307.450000</td>\n",
       "      <td>1302.150000</td>\n",
       "      <td>9.771788e+07</td>\n",
       "      <td>8.160988e+15</td>\n",
       "      <td>1.205984e+06</td>\n",
       "      <td>2.241652e+07</td>\n",
       "      <td>0.979800</td>\n",
       "    </tr>\n",
       "  </tbody>\n",
       "</table>\n",
       "</div>"
      ],
      "text/plain": [
       "        Prev Close         Open         High          Low         Last  \\\n",
       "count  3322.000000  3322.000000  3322.000000  3322.000000  3322.000000   \n",
       "mean    344.114314   344.763019   351.608007   337.531969   344.239539   \n",
       "std     192.936882   193.619992   198.617808   188.676614   193.187813   \n",
       "min     108.000000   108.000000   110.450000   105.650000   108.000000   \n",
       "25%     164.312500   164.850000   168.000000   161.600000   164.075000   \n",
       "50%     324.700000   325.750000   331.275000   319.850000   325.000000   \n",
       "75%     400.912500   401.000000   407.187500   395.000000   400.912500   \n",
       "max    1307.450000  1310.250000  1324.000000  1270.000000  1308.000000   \n",
       "\n",
       "             Close         VWAP        Volume      Turnover        Trades  \\\n",
       "count  3322.000000  3322.000000  3.322000e+03  3.322000e+03  2.456000e+03   \n",
       "mean    344.201626   344.853182  2.954564e+06  1.070144e+14  4.492259e+04   \n",
       "std     193.045886   193.841305  4.104227e+06  2.625564e+14  5.023124e+04   \n",
       "min     108.000000   108.340000  1.236600e+04  2.415857e+11  3.660000e+02   \n",
       "25%     164.312500   164.855000  7.493682e+05  1.817650e+13  2.083200e+04   \n",
       "50%     324.700000   325.765000  2.007292e+06  5.836041e+13  3.588150e+04   \n",
       "75%     400.912500   400.607500  3.636883e+06  1.158526e+14  5.336875e+04   \n",
       "max    1307.450000  1302.150000  9.771788e+07  8.160988e+15  1.205984e+06   \n",
       "\n",
       "       Deliverable Volume  %Deliverble  \n",
       "count        3.322000e+03  3322.000000  \n",
       "mean         1.207441e+06     0.445899  \n",
       "std          1.398640e+06     0.160496  \n",
       "min          5.383000e+03     0.067000  \n",
       "25%          3.212005e+05     0.332900  \n",
       "50%          8.132775e+05     0.445650  \n",
       "75%          1.605528e+06     0.555850  \n",
       "max          2.241652e+07     0.979800  "
      ]
     },
     "execution_count": 8,
     "metadata": {},
     "output_type": "execute_result"
    }
   ],
   "source": [
    "# Check Statistics of data\n",
    "data.describe()"
   ]
  },
  {
   "cell_type": "code",
   "execution_count": 9,
   "id": "087f3b58",
   "metadata": {},
   "outputs": [
    {
     "data": {
      "text/html": [
       "<div>\n",
       "<style scoped>\n",
       "    .dataframe tbody tr th:only-of-type {\n",
       "        vertical-align: middle;\n",
       "    }\n",
       "\n",
       "    .dataframe tbody tr th {\n",
       "        vertical-align: top;\n",
       "    }\n",
       "\n",
       "    .dataframe thead th {\n",
       "        text-align: right;\n",
       "    }\n",
       "</style>\n",
       "<table border=\"1\" class=\"dataframe\">\n",
       "  <thead>\n",
       "    <tr style=\"text-align: right;\">\n",
       "      <th></th>\n",
       "      <th>Date</th>\n",
       "      <th>Symbol</th>\n",
       "      <th>Series</th>\n",
       "    </tr>\n",
       "  </thead>\n",
       "  <tbody>\n",
       "    <tr>\n",
       "      <th>count</th>\n",
       "      <td>3322</td>\n",
       "      <td>3322</td>\n",
       "      <td>3322</td>\n",
       "    </tr>\n",
       "    <tr>\n",
       "      <th>unique</th>\n",
       "      <td>3322</td>\n",
       "      <td>2</td>\n",
       "      <td>1</td>\n",
       "    </tr>\n",
       "    <tr>\n",
       "      <th>top</th>\n",
       "      <td>2007-11-27</td>\n",
       "      <td>ADANIPORTS</td>\n",
       "      <td>EQ</td>\n",
       "    </tr>\n",
       "    <tr>\n",
       "      <th>freq</th>\n",
       "      <td>1</td>\n",
       "      <td>2299</td>\n",
       "      <td>3322</td>\n",
       "    </tr>\n",
       "  </tbody>\n",
       "</table>\n",
       "</div>"
      ],
      "text/plain": [
       "              Date      Symbol Series\n",
       "count         3322        3322   3322\n",
       "unique        3322           2      1\n",
       "top     2007-11-27  ADANIPORTS     EQ\n",
       "freq             1        2299   3322"
      ]
     },
     "execution_count": 9,
     "metadata": {},
     "output_type": "execute_result"
    }
   ],
   "source": [
    "# Check Statistics of data for object\n",
    "data.describe(include='O')"
   ]
  },
  {
   "cell_type": "code",
   "execution_count": 10,
   "id": "0e58673f",
   "metadata": {},
   "outputs": [
    {
     "data": {
      "text/plain": [
       "Date                    0\n",
       "Symbol                  0\n",
       "Series                  0\n",
       "Prev Close              0\n",
       "Open                    0\n",
       "High                    0\n",
       "Low                     0\n",
       "Last                    0\n",
       "Close                   0\n",
       "VWAP                    0\n",
       "Volume                  0\n",
       "Turnover                0\n",
       "Trades                866\n",
       "Deliverable Volume      0\n",
       "%Deliverble             0\n",
       "dtype: int64"
      ]
     },
     "execution_count": 10,
     "metadata": {},
     "output_type": "execute_result"
    }
   ],
   "source": [
    "# Check missing values\n",
    "data.isnull().sum()"
   ]
  },
  {
   "cell_type": "markdown",
   "id": "29822f89",
   "metadata": {},
   "source": [
    "## Preparing the Data"
   ]
  },
  {
   "cell_type": "code",
   "execution_count": 11,
   "id": "f5cba55a",
   "metadata": {},
   "outputs": [],
   "source": [
    "close_prices = data['Close'].values.reshape(-1, 1)\n",
    "scaler = MinMaxScaler(feature_range=(0, 1))\n",
    "scaled_prices = scaler.fit_transform(close_prices)"
   ]
  },
  {
   "cell_type": "markdown",
   "id": "55c59e46",
   "metadata": {},
   "source": [
    "## Spliting data into training and testing sets"
   ]
  },
  {
   "cell_type": "code",
   "execution_count": 12,
   "id": "5d7b83b3",
   "metadata": {},
   "outputs": [],
   "source": [
    "train_size = int(len(scaled_prices) * 0.8)\n",
    "train_data = scaled_prices[:train_size]\n",
    "test_data = scaled_prices[train_size:]"
   ]
  },
  {
   "cell_type": "markdown",
   "id": "324dd564",
   "metadata": {},
   "source": [
    "## Function to create LSTM dataset"
   ]
  },
  {
   "cell_type": "code",
   "execution_count": 13,
   "id": "59860b3b",
   "metadata": {},
   "outputs": [],
   "source": [
    "def create_lstm_dataset(dataset, time_steps=1):\n",
    "    X, y = [], []\n",
    "    for i in range(len(dataset) - time_steps):\n",
    "        X.append(dataset[i:i + time_steps, 0])\n",
    "        y.append(dataset[i + time_steps, 0])\n",
    "    return np.array(X), np.array(y)"
   ]
  },
  {
   "cell_type": "markdown",
   "id": "0ff05906",
   "metadata": {},
   "source": [
    "## Time steps for the LSTM"
   ]
  },
  {
   "cell_type": "code",
   "execution_count": 14,
   "id": "112dbce6",
   "metadata": {},
   "outputs": [],
   "source": [
    "time_steps = 60"
   ]
  },
  {
   "cell_type": "markdown",
   "id": "47235a97",
   "metadata": {},
   "source": [
    "## Creating dataset"
   ]
  },
  {
   "cell_type": "code",
   "execution_count": 15,
   "id": "61c38dfd",
   "metadata": {},
   "outputs": [],
   "source": [
    "X_train, y_train = create_lstm_dataset(train_data, time_steps)\n",
    "X_test, y_test = create_lstm_dataset(test_data, time_steps)"
   ]
  },
  {
   "cell_type": "markdown",
   "id": "93d30a36",
   "metadata": {},
   "source": [
    "## Reshaping the data for input"
   ]
  },
  {
   "cell_type": "code",
   "execution_count": 16,
   "id": "807c0403",
   "metadata": {},
   "outputs": [],
   "source": [
    "X_train = np.reshape(X_train, (X_train.shape[0], X_train.shape[1], 1))\n",
    "X_test = np.reshape(X_test, (X_test.shape[0], X_test.shape[1], 1))"
   ]
  },
  {
   "cell_type": "markdown",
   "id": "46f21e7b",
   "metadata": {},
   "source": [
    "## Build the LSTM model"
   ]
  },
  {
   "cell_type": "code",
   "execution_count": 17,
   "id": "dd93d355",
   "metadata": {},
   "outputs": [],
   "source": [
    "model = Sequential()\n",
    "model.add(LSTM(units=50, return_sequences=True, input_shape=(X_train.shape[1], 1)))\n",
    "model.add(LSTM(units=50))\n",
    "model.add(Dense(units=1))"
   ]
  },
  {
   "cell_type": "markdown",
   "id": "57dcef28",
   "metadata": {},
   "source": [
    "## Compile"
   ]
  },
  {
   "cell_type": "code",
   "execution_count": 18,
   "id": "ec439bc3",
   "metadata": {},
   "outputs": [],
   "source": [
    "model.compile(optimizer='adam', loss='mean_squared_error')"
   ]
  },
  {
   "cell_type": "markdown",
   "id": "51af1f0e",
   "metadata": {},
   "source": [
    "## Train"
   ]
  },
  {
   "cell_type": "code",
   "execution_count": 19,
   "id": "e523f2d4",
   "metadata": {},
   "outputs": [
    {
     "name": "stdout",
     "output_type": "stream",
     "text": [
      "Epoch 1/10\n",
      "82/82 [==============================] - 9s 59ms/step - loss: 0.0047\n",
      "Epoch 2/10\n",
      "82/82 [==============================] - 5s 56ms/step - loss: 9.3189e-04\n",
      "Epoch 3/10\n",
      "82/82 [==============================] - 7s 88ms/step - loss: 7.5566e-04\n",
      "Epoch 4/10\n",
      "82/82 [==============================] - 9s 106ms/step - loss: 6.8704e-04\n",
      "Epoch 5/10\n",
      "82/82 [==============================] - 7s 88ms/step - loss: 6.4225e-04\n",
      "Epoch 6/10\n",
      "82/82 [==============================] - 6s 77ms/step - loss: 5.3887e-04\n",
      "Epoch 7/10\n",
      "82/82 [==============================] - 6s 70ms/step - loss: 5.0844e-04\n",
      "Epoch 8/10\n",
      "82/82 [==============================] - 5s 66ms/step - loss: 4.3734e-04\n",
      "Epoch 9/10\n",
      "82/82 [==============================] - 5s 64ms/step - loss: 4.2884e-04\n",
      "Epoch 10/10\n",
      "82/82 [==============================] - 5s 64ms/step - loss: 4.2520e-04\n"
     ]
    },
    {
     "data": {
      "text/plain": [
       "<keras.callbacks.History at 0x21158493850>"
      ]
     },
     "execution_count": 19,
     "metadata": {},
     "output_type": "execute_result"
    }
   ],
   "source": [
    "model.fit(X_train, y_train, epochs=10, batch_size=32)"
   ]
  },
  {
   "cell_type": "markdown",
   "id": "be9ed125",
   "metadata": {},
   "source": [
    "## Making Predictions"
   ]
  },
  {
   "cell_type": "code",
   "execution_count": 20,
   "id": "39aa4533",
   "metadata": {},
   "outputs": [
    {
     "name": "stdout",
     "output_type": "stream",
     "text": [
      "82/82 [==============================] - 3s 25ms/step\n",
      "19/19 [==============================] - 1s 28ms/step\n"
     ]
    }
   ],
   "source": [
    "train_predictions = model.predict(X_train)\n",
    "test_predictions = model.predict(X_test)"
   ]
  },
  {
   "cell_type": "code",
   "execution_count": 21,
   "id": "422f3eea",
   "metadata": {},
   "outputs": [],
   "source": [
    "train_predictions = scaler.inverse_transform(train_predictions)\n",
    "test_predictions = scaler.inverse_transform(test_predictions)"
   ]
  },
  {
   "cell_type": "markdown",
   "id": "4a781965",
   "metadata": {},
   "source": [
    "## Ploting actual and predicted price"
   ]
  },
  {
   "cell_type": "code",
   "execution_count": 22,
   "id": "5b27bd43",
   "metadata": {},
   "outputs": [
    {
     "data": {
      "image/png": "[encoded data removed]",
      "text/plain": [
       "<Figure size 1200x600 with 1 Axes>"
      ]
     },
     "metadata": {},
     "output_type": "display_data"
    }
   ],
   "source": [
    "plt.figure(figsize=(12, 6))\n",
    "plt.plot(close_prices, color='blue', label='Actual Price')\n",
    "plt.plot([None]*train_size + [x[0] for x in train_predictions], color='green', label='Train Predictions')\n",
    "plt.plot([None]*len(train_predictions) + [x[0] for x in test_predictions], color='red', label='Test Predictions')\n",
    "plt.legend()\n",
    "plt.show()"
   ]
  },
  {
   "cell_type": "code",
   "execution_count": null,
   "id": "6b0100ed",
   "metadata": {},
   "outputs": [],
   "source": []
  }
 ],
 "metadata": {
  "kernelspec": {
   "display_name": "Python 3 (ipykernel)",
   "language": "python",
   "name": "python3"
  },
  "language_info": {
   "codemirror_mode": {
    "name": "ipython",
    "version": 3
   },
   "file_extension": ".py",
   "mimetype": "text/x-python",
   "name": "python",
   "nbconvert_exporter": "python",
   "pygments_lexer": "ipython3",
   "version": "3.9.13"
  }
 },
 "nbformat": 4,
 "nbformat_minor": 5
}
